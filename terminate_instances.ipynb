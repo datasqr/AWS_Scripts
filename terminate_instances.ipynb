{
 "cells": [
  {
   "cell_type": "markdown",
   "metadata": {},
   "source": [
    "<h2>Install boto3</h2>\n",
    "\n",
    "pip install boto3\n",
    "\n",
    "Set up credentials:\n",
    "* create folder in /home/user/ named \".aws\" (/home/user/.aws). This folder is hidden\n",
    "* create file in folder .aws with name \"credentials\". Paste following lines. YOUR_KEY and YOUR_SECRET (http://docs.aws.amazon.com/general/latest/gr/getting-aws-sec-creds.html)\n",
    "\n",
    "    [default] <br/>\n",
    "    aws_access_key_id = YOUR_KEY <br/>\n",
    "    aws_secret_access_key = YOUR_SECRET <br/>\n",
    "\n",
    "\n",
    "* create file config and paste following lines\n",
    "\n",
    "    [default] <br/>\n",
    "    region=us-east-1 <br/>\n"
   ]
  },
  {
   "cell_type": "code",
   "execution_count": 1,
   "metadata": {},
   "outputs": [],
   "source": [
    "import boto3\n",
    "\n",
    "import boto3\n",
    "ec2 = boto3.resource('ec2')\n",
    "\n",
    "instances = ec2.instances.filter(\n",
    "    Filters=[{'Name': 'instance-state-name', 'Values': ['running']}])\n",
    "instanceListNames = []\n",
    "attachedVolumes = []\n",
    "for instance in instances:\n",
    "    print(instance.id, instance.instance_type, instance.key_name, instance.private_ip_address, instance.public_dns_name ,instance.root_device_name)\n",
    "    instanceListNames.append(instance.id)\n",
    "    volumeId = instance.block_device_mappings\n",
    "    attachedVolumes.append(volumeId[0]['Ebs']['VolumeId'])\n",
    "    print(volumeId)\n",
    "\n",
    "    "
   ]
  },
  {
   "cell_type": "markdown",
   "metadata": {},
   "source": [
    "<h3> Create budget</h3>"
   ]
  },
  {
   "cell_type": "code",
   "execution_count": null,
   "metadata": {
    "collapsed": true
   },
   "outputs": [],
   "source": [
    "import datetime\n",
    "\n",
    "budget = boto3.client('budgets')\n",
    "\n",
    "budget.create_budget(\n",
    "    AccountId='310130539075',\n",
    "    Budget={\n",
    "        'BudgetName': 'BudgetInvestigation1',\n",
    "        'BudgetLimit': {\n",
    "            'Amount': '10',\n",
    "            'Unit': 'USD'\n",
    "        },\n",
    "        'CostTypes': {\n",
    "            'IncludeTax': True,\n",
    "            'IncludeSubscription': True,\n",
    "            'UseBlended': True\n",
    "        },\n",
    "        'TimeUnit': 'MONTHLY',\n",
    "        'TimePeriod': {\n",
    "            'Start': datetime.datetime(2018, 1, 1),\n",
    "            'End': datetime.datetime(2019, 1, 1)\n",
    "        },\n",
    "        'CalculatedSpend': {\n",
    "            'ActualSpend': {\n",
    "                'Amount': '10',\n",
    "                'Unit': 'USD'\n",
    "            },\n",
    "            'ForecastedSpend': {\n",
    "                'Amount': '10',\n",
    "                'Unit': 'USD'\n",
    "            }\n",
    "        },\n",
    "        'BudgetType': 'COST'\n",
    "    },\n",
    "    NotificationsWithSubscribers=[\n",
    "        {\n",
    "            'Notification': {\n",
    "                'NotificationType': 'ACTUAL',\n",
    "                'ComparisonOperator': 'LESS_THAN',\n",
    "                'Threshold': 90.0,\n",
    "                'ThresholdType': 'PERCENTAGE'\n",
    "            },\n",
    "            'Subscribers': [\n",
    "                {\n",
    "                    'SubscriptionType': 'EMAIL',\n",
    "                    'Address': 'mateusz.zbikowski@gmail.com'\n",
    "                },\n",
    "            ]\n",
    "        },\n",
    "    ]\n",
    ")"
   ]
  },
  {
   "cell_type": "markdown",
   "metadata": {},
   "source": [
    "<h3>Check budget</h3>"
   ]
  },
  {
   "cell_type": "markdown",
   "metadata": {},
   "source": [
    "Create a budget on AWS\n",
    "https://docs.aws.amazon.com/awsaccountbilling/latest/aboutv2/budgets-create.html\n",
    "\n",
    "Check your accoutn id\n",
    "https://docs.aws.amazon.com/IAM/latest/UserGuide/console_account-alias.html\n"
   ]
  },
  {
   "cell_type": "code",
   "execution_count": 2,
   "metadata": {},
   "outputs": [
    {
     "name": "stdout",
     "output_type": "stream",
     "text": [
      "0.35\n"
     ]
    }
   ],
   "source": [
    "client = boto3.client('budgets')\n",
    "response = client.describe_budget(\n",
    "    AccountId='xxxxxxxxxxxxxxxxxxxxx',\n",
    "    BudgetName='BudgetInvestigation'\n",
    ")\n",
    "\n",
    "actualSpend = float(response['Budget']['CalculatedSpend']['ActualSpend']['Amount'])\n",
    "\n",
    "print(actualSpend)"
   ]
  },
  {
   "cell_type": "markdown",
   "metadata": {
    "collapsed": true
   },
   "source": [
    "If limit is exceeded create a snapshot of EBS and skill all instances"
   ]
  },
  {
   "cell_type": "code",
   "execution_count": 3,
   "metadata": {},
   "outputs": [
    {
     "name": "stdout",
     "output_type": "stream",
     "text": [
      "create snapshot\n",
      "[]\n",
      "kill all instances\n",
      "[]\n"
     ]
    }
   ],
   "source": [
    "if(actualSpend > 0):\n",
    "    print('create snapshot')\n",
    "    print(attachedVolumes)\n",
    "    '''\n",
    "    for volumeId in attachedVolumes:\n",
    "        ec2.create_snapshot(VolumeId=volumeId)\n",
    "    '''\n",
    "    print('kill all instances')\n",
    "    print(instanceListNames)\n",
    "    '''\n",
    "    ec2.instances.filter(InstanceIds=instanceListNames).stop()\n",
    "    ec2.instances.filter(InstanceIds=instanceListNames).terminate()\n",
    "    '''"
   ]
  },
  {
   "cell_type": "markdown",
   "metadata": {},
   "source": [
    "<h3> Create lambda function</h3>"
   ]
  },
  {
   "cell_type": "markdown",
   "metadata": {},
   "source": [
    "Roles IAM should be created in order to execute lambda scripts"
   ]
  },
  {
   "cell_type": "code",
   "execution_count": 11,
   "metadata": {},
   "outputs": [
    {
     "data": {
      "text/plain": [
       "{'CodeSha256': '1YP4rb+2DlN81wFqAQIozb99bk5sF5N2rt5HGG8LIac=',\n",
       " 'CodeSize': 639,\n",
       " 'Description': '',\n",
       " 'FunctionArn': 'xxxxxxxxxxxxxxxxxxxxxxxxxxxxx',\n",
       " 'FunctionName': 'terminateInstances',\n",
       " 'Handler': 'aws_monitor_instances_lambda.lambda_handler',\n",
       " 'LastModified': '2018-01-13T19:23:35.619+0000',\n",
       " 'MemorySize': 128,\n",
       " 'ResponseMetadata': {'HTTPHeaders': {'connection': 'keep-alive',\n",
       "   'content-length': '601',\n",
       "   'content-type': 'application/json',\n",
       "   'date': 'Sat, 13 Jan 2018 19:23:35 GMT',\n",
       "   'x-amzn-requestid': '4000970f-f897-11e7-8b3e-15456b468008'},\n",
       "  'HTTPStatusCode': 201,\n",
       "  'RequestId': '4000970f-f897-11e7-8b3e-15456b468008',\n",
       "  'RetryAttempts': 0},\n",
       " 'Role': 'xxxxxxxxxxxxxxxxxxxxxxxxxxxxxxxx',\n",
       " 'Runtime': 'python3.6',\n",
       " 'Timeout': 30,\n",
       " 'TracingConfig': {'Mode': 'PassThrough'},\n",
       " 'Version': '1'}"
      ]
     },
     "execution_count": 11,
     "metadata": {},
     "output_type": "execute_result"
    }
   ],
   "source": [
    "lambdaFunction = boto3.client('lambda')\n",
    "\n",
    "with open('/home/mz/DataInception/AWS/aws_monitor_instances_lambda.zip', 'rb') as content_file:\n",
    "    content = content_file.read()\n",
    "    \n",
    "vals = {}\n",
    "vals['FunctionName'] = 'terminateInstances'\n",
    "vals['Role'] = 'xxxxxxxxxxxxxxxxxxxxxxxxxxxxxxxx'\n",
    "vals['Handler'] = 'aws_monitor_instances_lambda.lambda_handler'\n",
    "# vals['Code'] = {'S3Bucket': 'https://s3-ap-southeast-1.amazonaws.com/abcde/aws-lambda-image.zip'}\n",
    "vals['Code'] = {'ZipFile': content}\n",
    "vals['Publish'] = True\n",
    "vals['Runtime'] = 'python3.6'\n",
    "vals['Timeout'] = 30\n",
    "\n",
    "lambdaFunction.create_function(**vals)\n",
    "\n"
   ]
  },
  {
   "cell_type": "markdown",
   "metadata": {
    "collapsed": true
   },
   "source": [
    "<h3> Create alarm in the Cloud Watch</h3>"
   ]
  },
  {
   "cell_type": "code",
   "execution_count": 8,
   "metadata": {},
   "outputs": [
    {
     "data": {
      "text/plain": [
       "{'ResponseMetadata': {'HTTPHeaders': {'content-length': '214',\n",
       "   'content-type': 'text/xml',\n",
       "   'date': 'Sat, 13 Jan 2018 18:30:39 GMT',\n",
       "   'x-amzn-requestid': 'db93af09-f88f-11e7-95a0-6f853bc99dd1'},\n",
       "  'HTTPStatusCode': 200,\n",
       "  'RequestId': 'db93af09-f88f-11e7-95a0-6f853bc99dd1',\n",
       "  'RetryAttempts': 0}}"
      ]
     },
     "execution_count": 8,
     "metadata": {},
     "output_type": "execute_result"
    }
   ],
   "source": [
    "cloudwatch = boto3.client('cloudwatch')\n",
    "\n",
    "# Create alarm\n",
    "cloudwatch.put_metric_alarm(\n",
    "    AlarmName='Budget_Monitoring',\n",
    "    ComparisonOperator='GreaterThanThreshold',\n",
    "    MetricName='EstimatedCharges',\n",
    "    Namespace='AWS/Billing',\n",
    "    Statistic='Maximum',\n",
    "    Threshold=0.3,\n",
    "    ActionsEnabled=False,\n",
    "    Period=6,\n",
    "    AlarmDescription='Alarm when bidget is exceeded',\n",
    "    EvaluationPeriods=1\n",
    ")\n",
    "\n",
    "# AlarmName, AlarmDescription, ActionsEnabled, OKActions, AlarmActions, \n",
    "# InsufficientDataActions, MetricName, Namespace, Statistic, \n",
    "# ExtendedStatistic, Dimensions, Period, Unit, EvaluationPeriods, \n",
    "# Threshold, ComparisonOperator, TreatMissingData, EvaluateLowSampleCountPercentile\n",
    "# Dimensions='Name=Currency,Value=USD',\n"
   ]
  },
  {
   "cell_type": "markdown",
   "metadata": {},
   "source": [
    "<h3>Create CloudWatch Event</h3>"
   ]
  },
  {
   "cell_type": "code",
   "execution_count": null,
   "metadata": {},
   "outputs": [],
   "source": [
    "cloudwatchEvents = boto3.client('events')\n",
    "\n",
    "cloudwatchEvents\n",
    "\n",
    "\n"
   ]
  },
  {
   "cell_type": "code",
   "execution_count": null,
   "metadata": {
    "collapsed": true
   },
   "outputs": [],
   "source": []
  }
 ],
 "metadata": {
  "kernelspec": {
   "display_name": "Python 3",
   "language": "python",
   "name": "python3"
  },
  "language_info": {
   "codemirror_mode": {
    "name": "ipython",
    "version": 3
   },
   "file_extension": ".py",
   "mimetype": "text/x-python",
   "name": "python",
   "nbconvert_exporter": "python",
   "pygments_lexer": "ipython3",
   "version": "3.6.3"
  }
 },
 "nbformat": 4,
 "nbformat_minor": 1
}
