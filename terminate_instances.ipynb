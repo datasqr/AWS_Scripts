{
 "cells": [
  {
   "cell_type": "markdown",
   "metadata": {},
   "source": [
    "<h2>Install boto3</h2>\n",
    "\n",
    "pip install boto3\n",
    "\n",
    "Set up credentials:\n",
    "* create folder in /home/user/ named \".aws\" (/home/user/.aws). This folder is hidden\n",
    "* create file in folder .aws with name \"credentials\". Paste following lines. YOUR_KEY and YOUR_SECRET (http://docs.aws.amazon.com/general/latest/gr/getting-aws-sec-creds.html)\n",
    "\n",
    "    [default] <br/>\n",
    "    aws_access_key_id = YOUR_KEY <br/>\n",
    "    aws_secret_access_key = YOUR_SECRET <br/>\n",
    "\n",
    "\n",
    "* create file config and paste following lines\n",
    "\n",
    "    [default] <br/>\n",
    "    region=us-east-1 <br/>\n",
    "    <br/>\n",
    "* Check your accoutn id\n",
    "https://docs.aws.amazon.com/IAM/latest/UserGuide/console_account-alias.html\n"
   ]
  },
  {
   "cell_type": "code",
   "execution_count": null,
   "metadata": {
    "collapsed": true
   },
   "outputs": [],
   "source": [
    "import boto3\n",
    "\n",
    "import boto3\n",
    "ec2 = boto3.resource('ec2')\n",
    "\n",
    "instances = ec2.instances.filter(\n",
    "    Filters=[{'Name': 'instance-state-name', 'Values': ['running']}])\n",
    "instanceListNames = []\n",
    "attachedVolumes = []\n",
    "for instance in instances:\n",
    "    print(instance.id, instance.instance_type, instance.key_name, instance.private_ip_address, instance.public_dns_name ,instance.root_device_name)\n",
    "    instanceListNames.append(instance.id)\n",
    "    volumeId = instance.block_device_mappings\n",
    "    attachedVolumes.append(volumeId[0]['Ebs']['VolumeId'])\n",
    "    print(volumeId)\n",
    "\n",
    "    "
   ]
  },
  {
   "cell_type": "markdown",
   "metadata": {},
   "source": [
    "<h3> Create budget</h3>"
   ]
  },
  {
   "cell_type": "code",
   "execution_count": null,
   "metadata": {
    "scrolled": true
   },
   "outputs": [],
   "source": [
    "import datetime\n",
    "\n",
    "budget = boto3.client('budgets')\n",
    "\n",
    "create_budget_output = budget.create_budget(\n",
    "    AccountId='xxxxxxxxxxxxxxxxxxxx',\n",
    "    Budget={\n",
    "        'BudgetName': 'BudgetInvestigation',\n",
    "        'BudgetLimit': {\n",
    "            'Amount': '10',\n",
    "            'Unit': 'USD'\n",
    "        },\n",
    "        'CostTypes': {\n",
    "            'IncludeTax': True,\n",
    "            'IncludeSubscription': True,\n",
    "            'UseBlended': True\n",
    "        },\n",
    "        'TimeUnit': 'MONTHLY',\n",
    "        'TimePeriod': {\n",
    "            'Start': datetime.datetime(2018, 1, 1),\n",
    "            'End': datetime.datetime(2019, 1, 1)\n",
    "        },\n",
    "        'CalculatedSpend': {\n",
    "            'ActualSpend': {\n",
    "                'Amount': '10',\n",
    "                'Unit': 'USD'\n",
    "            },\n",
    "            'ForecastedSpend': {\n",
    "                'Amount': '10',\n",
    "                'Unit': 'USD'\n",
    "            }\n",
    "        },\n",
    "        'BudgetType': 'COST'\n",
    "    },\n",
    "    NotificationsWithSubscribers=[\n",
    "        {\n",
    "            'Notification': {\n",
    "                'NotificationType': 'ACTUAL',\n",
    "                'ComparisonOperator': 'LESS_THAN',\n",
    "                'Threshold': 90.0,\n",
    "                'ThresholdType': 'PERCENTAGE'\n",
    "            },\n",
    "            'Subscribers': [\n",
    "                {\n",
    "                    'SubscriptionType': 'EMAIL',\n",
    "                    'Address': 'xxxxxxxx@xxxxxxxx.com'\n",
    "                },\n",
    "            ]\n",
    "        },\n",
    "    ]\n",
    ")"
   ]
  },
  {
   "cell_type": "markdown",
   "metadata": {},
   "source": [
    "<h3>Check budget</h3>"
   ]
  },
  {
   "cell_type": "code",
   "execution_count": null,
   "metadata": {},
   "outputs": [],
   "source": [
    "client = boto3.client('budgets')\n",
    "response = client.describe_budget(\n",
    "    AccountId='xxxxxxxxxxxxxxxx',\n",
    "    BudgetName='BudgetInvestigation'\n",
    ")\n",
    "\n",
    "actualSpend = float(response['Budget']['CalculatedSpend']['ActualSpend']['Amount'])\n",
    "\n",
    "print(actualSpend)"
   ]
  },
  {
   "cell_type": "markdown",
   "metadata": {},
   "source": [
    "<h3> Create lambda function</h3>"
   ]
  },
  {
   "cell_type": "markdown",
   "metadata": {},
   "source": [
    "Roles IAM should be created in order to execute lambda scripts"
   ]
  },
  {
   "cell_type": "markdown",
   "metadata": {},
   "source": [
    "In lambda function remember to update accoutn id and uncomment specific lines <br />\n",
    "Code below should be zipped (.zip)"
   ]
  },
  {
   "cell_type": "code",
   "execution_count": null,
   "metadata": {
    "collapsed": true
   },
   "outputs": [],
   "source": [
    "#https://aws.amazon.com/premiumsupport/knowledge-center/start-stop-lambda-cloudwatch/\n",
    "\n",
    "import boto3\n",
    "\n",
    "ec2 = boto3.resource('ec2')\n",
    "\n",
    "def lambda_handler(event, context):\n",
    "    # TODO implement\n",
    "    \n",
    "    instances = ec2.instances.filter(\n",
    "        Filters=[{'Name': 'instance-state-name', 'Values': ['running']}])\n",
    "    instanceListNames = []\n",
    "    attachedVolumes = []\n",
    "    for instance in instances:\n",
    "        print(instance.id, instance.instance_type, instance.key_name, instance.private_ip_address, instance.public_dns_name ,instance.root_device_name)\n",
    "        instanceListNames.append(instance.id)\n",
    "        volumeId = instance.block_device_mappings\n",
    "        attachedVolumes.append(volumeId[0]['Ebs']['VolumeId'])\n",
    "        print(volumeId)\n",
    "\n",
    "    # Check budget\n",
    "    # Create a budget on AWS\n",
    "    # https://docs.aws.amazon.com/awsaccountbilling/latest/aboutv2/budgets-create.html\n",
    "    # \n",
    "    # Check your accoutn id\n",
    "    # https://docs.aws.amazon.com/IAM/latest/UserGuide/console_account-alias.html\n",
    "    # \n",
    "\n",
    "    client = boto3.client('budgets')\n",
    "    response = client.describe_budget(\n",
    "        AccountId='xxxxxxxxxxxxxxxxx',\n",
    "        BudgetName='BudgetInvestigation'\n",
    "    )\n",
    "\n",
    "    actualSpend = float(response['Budget']['CalculatedSpend']['ActualSpend']['Amount'])\n",
    "\n",
    "    print(actualSpend)\n",
    "\n",
    "\n",
    "    # If limit is exceeded create a snapshot of EBS and skill all instances\n",
    "\n",
    "    if(actualSpend > 0):\n",
    "        print('create snapshot')\n",
    "        print(attachedVolumes)\n",
    "        '''\n",
    "        for volumeId in attachedVolumes:\n",
    "            ec2.create_snapshot(VolumeId=volumeId)\n",
    "        '''\n",
    "        print('kill all instances')\n",
    "        print(instanceListNames)\n",
    "        '''\n",
    "        ec2.instances.filter(InstanceIds=instanceListNames).stop()\n",
    "        ec2.instances.filter(InstanceIds=instanceListNames).terminate()\n",
    "        '''\n",
    "\n",
    "    return 'Instances terminated'"
   ]
  },
  {
   "cell_type": "markdown",
   "metadata": {},
   "source": [
    "Run the following code to send zipped file to AWS"
   ]
  },
  {
   "cell_type": "code",
   "execution_count": null,
   "metadata": {
    "scrolled": true
   },
   "outputs": [],
   "source": [
    "lambdaFunction = boto3.client('lambda')\n",
    "\n",
    "with open('/path/aws_monitor_instances_lambda.zip', 'rb') as content_file:\n",
    "    content = content_file.read()\n",
    "    \n",
    "vals = {}\n",
    "vals['FunctionName'] = 'aws_monitor_instances_lambda'\n",
    "vals['Role'] = 'xxxxxxxxxxxxxxxxxxxxxxxxxxxx'\n",
    "vals['Handler'] = 'aws_monitor_instances_lambda.lambda_handler'\n",
    "# vals['Code'] = {'S3Bucket': 'https://s3-ap-southeast-1.amazonaws.com/abcde/aws-lambda-image.zip'}\n",
    "vals['Code'] = {'ZipFile': content}\n",
    "vals['Publish'] = True\n",
    "vals['Runtime'] = 'python3.6'\n",
    "vals['Timeout'] = 30\n",
    "\n",
    "create_function_output = lambdaFunction.create_function(**vals)\n",
    "RuleArn = create_function_output['FunctionArn']"
   ]
  },
  {
   "cell_type": "markdown",
   "metadata": {},
   "source": [
    "<h3>Create CloudWatch Event</h3>"
   ]
  },
  {
   "cell_type": "code",
   "execution_count": null,
   "metadata": {},
   "outputs": [],
   "source": [
    "cloudwatchEvents = boto3.client('events')\n",
    "\n",
    "put_role_output = cloudwatchEvents.put_rule(\n",
    "    Name='checkBudget',\n",
    "    ScheduleExpression='rate(1 minute)',\n",
    "    State='ENABLED',\n",
    "    Description='checkBudget'\n",
    ")"
   ]
  },
  {
   "cell_type": "code",
   "execution_count": null,
   "metadata": {},
   "outputs": [],
   "source": [
    "put_targets_output = cloudwatchEvents.put_targets(\n",
    "    Rule='checkBudget',\n",
    "    Targets=[\n",
    "        {\n",
    "            'Id': '1',\n",
    "            'Arn': RuleArn,\n",
    "            \n",
    "          },\n",
    "    ]\n",
    ")\n"
   ]
  },
  {
   "cell_type": "markdown",
   "metadata": {},
   "source": [
    "Additionaly you can create CloudWatch Alarm <br/>"
   ]
  },
  {
   "cell_type": "markdown",
   "metadata": {
    "collapsed": true
   },
   "source": [
    "<h3> Create alarm in the Cloud Watch</h3>"
   ]
  },
  {
   "cell_type": "code",
   "execution_count": null,
   "metadata": {
    "scrolled": true
   },
   "outputs": [],
   "source": [
    "cloudwatch = boto3.client('cloudwatch')\n",
    "\n",
    "# Create alarm\n",
    "cloudwatch.put_metric_alarm(\n",
    "    AlarmName='Budget_Monitoring',\n",
    "    ComparisonOperator='GreaterThanThreshold',\n",
    "    MetricName='EstimatedCharges',\n",
    "    Namespace='AWS/Billing',\n",
    "    Statistic='Maximum',\n",
    "    Threshold=0.3,\n",
    "    ActionsEnabled=False,\n",
    "    Period=6,\n",
    "    AlarmDescription='Alarm when bidget is exceeded',\n",
    "    EvaluationPeriods=1\n",
    ")\n",
    "\n",
    "# AlarmName, AlarmDescription, ActionsEnabled, OKActions, AlarmActions, \n",
    "# InsufficientDataActions, MetricName, Namespace, Statistic, \n",
    "# ExtendedStatistic, Dimensions, Period, Unit, EvaluationPeriods, \n",
    "# Threshold, ComparisonOperator, TreatMissingData, EvaluateLowSampleCountPercentile\n",
    "# Dimensions='Name=Currency,Value=USD',\n"
   ]
  }
 ],
 "metadata": {
  "kernelspec": {
   "display_name": "Python 3",
   "language": "python",
   "name": "python3"
  },
  "language_info": {
   "codemirror_mode": {
    "name": "ipython",
    "version": 3
   },
   "file_extension": ".py",
   "mimetype": "text/x-python",
   "name": "python",
   "nbconvert_exporter": "python",
   "pygments_lexer": "ipython3",
   "version": "3.6.3"
  }
 },
 "nbformat": 4,
 "nbformat_minor": 1
}
