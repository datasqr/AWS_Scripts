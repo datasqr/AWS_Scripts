{
 "cells": [
  {
   "cell_type": "markdown",
   "metadata": {},
   "source": [
    "<h3>CloudFormation</h3>"
   ]
  },
  {
   "cell_type": "markdown",
   "metadata": {},
   "source": [
    "Create budget in AWS <br/>\n",
    "https://docs.aws.amazon.com/awsaccountbilling/latest/aboutv2/budgets-create.html"
   ]
  },
  {
   "cell_type": "markdown",
   "metadata": {},
   "source": [
    "Create S3 bucket"
   ]
  },
  {
   "cell_type": "code",
   "execution_count": null,
   "metadata": {
    "collapsed": true
   },
   "outputs": [],
   "source": [
    "\"lambda_functions\" : {\n",
    "      \"Type\" : \"AWS::S3::Bucket\"\n",
    "      }"
   ]
  },
  {
   "cell_type": "markdown",
   "metadata": {},
   "source": [
    "Copy lambda functions to S3 bucket"
   ]
  },
  {
   "cell_type": "markdown",
   "metadata": {},
   "source": [
    "Lamda function should be on github in a zip file"
   ]
  },
  {
   "cell_type": "code",
   "execution_count": null,
   "metadata": {
    "collapsed": true
   },
   "outputs": [],
   "source": [
    "#https://aws.amazon.com/premiumsupport/knowledge-center/start-stop-lambda-cloudwatch/\n",
    "\n",
    "import boto3\n",
    "\n",
    "ec2 = boto3.resource('ec2')\n",
    "\n",
    "def lambda_handler(event, context):\n",
    "    # TODO implement\n",
    "    \n",
    "    instances = ec2.instances.filter(\n",
    "        Filters=[{'Name': 'instance-state-name', 'Values': ['running']}])\n",
    "    instanceListNames = []\n",
    "    attachedVolumes = []\n",
    "    for instance in instances:\n",
    "        print(instance.id, instance.instance_type, instance.key_name, instance.private_ip_address, instance.public_dns_name ,instance.root_device_name)\n",
    "        instanceListNames.append(instance.id)\n",
    "        volumeId = instance.block_device_mappings\n",
    "        attachedVolumes.append(volumeId[0]['Ebs']['VolumeId'])\n",
    "        print(volumeId)\n",
    "\n",
    "    # Check budget\n",
    "    # Create a budget on AWS\n",
    "    # https://docs.aws.amazon.com/awsaccountbilling/latest/aboutv2/budgets-create.html\n",
    "    # \n",
    "    # Check your accoutn id\n",
    "    # https://docs.aws.amazon.com/IAM/latest/UserGuide/console_account-alias.html\n",
    "    # \n",
    "    \n",
    "    # Get acciunt ID\n",
    "    ACCOUNT_ID = context.invoked_function_arn.split(\":\")[4]\n",
    "\n",
    "    client = boto3.client('budgets')\n",
    "    response = client.describe_budget(\n",
    "        AccountId=ACCOUNT_ID,[]\n",
    "        BudgetName='BudgetInvestigation'\n",
    "    )\n",
    "\n",
    "    actualSpend = float(response['Budget']['CalculatedSpend']['ActualSpend']['Amount'])\n",
    "\n",
    "    print(actualSpend)\n",
    "\n",
    "\n",
    "    # If limit is exceeded create a snapshot of EBS and skill all instances\n",
    "\n",
    "    if(actualSpend > 0):\n",
    "        print('create snapshot')\n",
    "        print(attachedVolumes)\n",
    "        '''\n",
    "        for volumeId in attachedVolumes:\n",
    "            ec2.create_snapshot(VolumeId=volumeId)\n",
    "        '''\n",
    "        print('kill all instances')\n",
    "        print(instanceListNames)\n",
    "        '''\n",
    "        ec2.instances.filter(InstanceIds=instanceListNames).stop()\n",
    "        ec2.instances.filter(InstanceIds=instanceListNames).terminate()\n",
    "        '''\n",
    "\n",
    "    return 'Instances terminated'"
   ]
  },
  {
   "cell_type": "markdown",
   "metadata": {},
   "source": [
    "Copy Lambda Function from S3"
   ]
  },
  {
   "cell_type": "code",
   "execution_count": null,
   "metadata": {
    "collapsed": true
   },
   "outputs": [],
   "source": [
    "\"AMIIDLookup\": {\n",
    "  \"Type\": \"AWS::Lambda::Function\",\n",
    "  \"Properties\": {\n",
    "    \"Handler\": \"aws_monitor_instances_lambda.lambda_handler\",\n",
    "    \"Role\": { \"Fn::GetAtt\" : [\"LambdaExecutionRole\", \"Arn\"] },\n",
    "    \"Code\": {\n",
    "      \"S3Bucket\": \"lambda_functions\",\n",
    "      \"S3Key\": \"aws_monitor_instances_lambda.zip\"\n",
    "    },\n",
    "    \"Runtime\": \"python3.6\",\n",
    "    \"Timeout\": \"25\",\n",
    "    \"TracingConfig\": {\n",
    "      \"Mode\": \"Active\"\n",
    "   }\n",
    "  }\n",
    "}"
   ]
  },
  {
   "cell_type": "markdown",
   "metadata": {},
   "source": [
    "Create an Event which call lambda function"
   ]
  },
  {
   "cell_type": "code",
   "execution_count": null,
   "metadata": {
    "collapsed": true
   },
   "outputs": [],
   "source": [
    "\"ScheduledRule\": {\n",
    "  \"Type\": \"AWS::Events::Rule\",\n",
    "  \"Properties\": {\n",
    "    \"Description\": \"checkBudget\",\n",
    "    \"ScheduleExpression\": \"rate(1 minute)\",\n",
    "    \"State\": \"ENABLED\",\n",
    "    \"Targets\": [{\n",
    "      \"Arn\": { \"Fn::GetAtt\": [\"aws_monitor_instances_lambda\", \"Arn\"] },\n",
    "      \"Id\": \"TargetFunctionV1\"\n",
    "    }]\n",
    "  }\n",
    "},\n",
    "\"PermissionForEventsToInvokeLambda\": {\n",
    "  \"Type\": \"AWS::Lambda::Permission\",\n",
    "  \"Properties\": {\n",
    "    \"FunctionName\": { \"Ref\": \"LambdaFunction\" },\n",
    "    \"Action\": \"lambda:InvokeFunction\",\n",
    "    \"Principal\": \"events.amazonaws.com\",\n",
    "    \"SourceArn\": { \"Fn::GetAtt\": [\"ScheduledRule\", \"Arn\"] }\n",
    "  }\n",
    "}"
   ]
  }
 ],
 "metadata": {
  "kernelspec": {
   "display_name": "Python 3",
   "language": "python",
   "name": "python3"
  },
  "language_info": {
   "codemirror_mode": {
    "name": "ipython",
    "version": 3
   },
   "file_extension": ".py",
   "mimetype": "text/x-python",
   "name": "python",
   "nbconvert_exporter": "python",
   "pygments_lexer": "ipython3",
   "version": "3.6.3"
  }
 },
 "nbformat": 4,
 "nbformat_minor": 1
}
